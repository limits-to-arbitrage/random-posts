{
 "cells": [
  {
   "cell_type": "markdown",
   "metadata": {},
   "source": [
    "## Derivative of the sigmoid function"
   ]
  },
  {
   "cell_type": "markdown",
   "metadata": {},
   "source": [
    "### Summary\n",
    "Simple derivation of the derivative of the sigmoid function."
   ]
  },
  {
   "cell_type": "markdown",
   "metadata": {},
   "source": [
    "### Why write this?\n",
    "Some machine learning and deep learning courses introduce models which use the sigmoid function and its derivative (e.g., logistic regression, neural networks with sigmoid activation functions) and may initially gloss over the derivation of the derivative of the sigmoid function, presenting it as a given. This is written for those interested in the details of that derivation.\n",
    "\n",
    "Though there are certainly other examples elsewhere, this notebook is written to be as clear as possible, including reference to related calculus concepts for convenience. The end goal is a step-by-step derivation of the derivative of the sigmoid function for you to reference and use elsewhere."
   ]
  },
  {
   "cell_type": "markdown",
   "metadata": {},
   "source": [
    "### Derivation\n",
    "First, define the [sigmoid function](https://en.wikipedia.org/wiki/Sigmoid_function) to be\n",
    "<br>\n",
    "<div align=\"center\"><b> $g(z)=\\frac{1}{1+e^{-z}}$ </b></div>\n",
    "<br>\n",
    "\n",
    "**Note:** Another form you may have seen, $g(z)=\\frac{e^z}{1+e^z}$, is equivalent to the above as the product of $\\frac{e^z}{1+e^z}$ and $\\frac{e^{-z}}{e^{-z}}$ gives $\\frac{1}{1+e^{-z}}$.\n",
    "\n",
    "<br>\n",
    "The derivative of the sigmoid function is then\n",
    "<br>\n",
    "<div align=\"center\"><b> $g'(z)=\\frac{d}{dz}\\frac{1}{1+e^{-z}}$ </b></div>\n",
    "<br>\n",
    "\n",
    "The above can be rewritten using the [reciprocal rule](https://en.wikipedia.org/wiki/Differentiation_rules#The_reciprocal_rule) as\n",
    "<br>\n",
    "<div align=\"center\"><b> $g'(z)=-\\frac{\\frac{d}{dz}(1+e^{-z})}{(1+e^{-z})^2}$ </b></div>\n",
    "<br>\n",
    "\n",
    "The numerator above can then be expanded using the [sum rule](https://en.wikipedia.org/wiki/Differentiation_rules#Differentiation_is_linear) as\n",
    "<br>\n",
    "<div align=\"center\"><b> $g'(z)=-\\frac{\\frac{d}{dz}1+\\frac{d}{dz}e^{-z}}{(1+e^{-z})^2}$ </b></div>\n",
    "<br>\n",
    "\n",
    "The numerator above can then be simplified as the first term, $\\frac{d}{dz}1$, evaluates to $0$ given the [constant rule](https://en.wikipedia.org/wiki/Differentiation_rules#Constant_term_rule), and the second term, $\\frac{d}{dz}e^{-z}$, evaluates to $-e^{-z}$ given the [exponential rule](https://en.wikipedia.org/wiki/Differentiation_rules#Derivatives_of_exponential_and_logarithmic_functions)\n",
    "<br>\n",
    "<div align=\"center\"><b> $g'(z)=-\\frac{-e^{-z}}{(1+e^{-z})^2}$ </b></div>\n",
    "<br>\n",
    "\n",
    "\n",
    "The leading negative and negative in the numerator cancel as\n",
    "<br>\n",
    "<div align=\"center\"><b> $g'(z)=\\frac{e^{-z}}{(1+e^{-z})^2}$ </b></div>\n",
    "<br>\n",
    "\n",
    "The denominator can then be expanded as\n",
    "<br>\n",
    "<div align=\"center\"><b> $g'(z)=\\frac{e^{-z}}{(1+e^{-z})(1+e^{-z})}$ </b></div>\n",
    "<br>\n",
    "\n",
    "The above can then be rewritten as the following product of two fractions\n",
    "<br>\n",
    "<div align=\"center\"><b> $g'(z)=\\frac{1}{1+e^{-z}}\\cdot\\frac{e^{-z}}{1+e^{-z}}$ </b></div>\n",
    "<br>\n",
    "\n",
    "The second fraction above can be expanded further, first by adding \"$0$\" to its numerator\n",
    "<br>\n",
    "<div align=\"center\"><b> $g'(z)=\\frac{1}{1+e^{-z}}\\cdot\\frac{1+e^{-z}-1}{1+e^{-z}}$ </b></div>\n",
    "<br>\n",
    "\n",
    "Then by expanding the (second) fraction as the difference between two fractions with a common denominator $1+e^{-z}$\n",
    "<br>\n",
    "<div align=\"center\"><b> $g'(z)=\\frac{1}{1+e^{-z}}\\Big(\\frac{1+e^{-z}}{1+e^{-z}}-\\frac{1}{1+e^{-z}}\\Big)$ </b></div>\n",
    "<br>\n",
    "\n",
    "Finally, given the now three fractions, note the first and last are themselves the sigmoid function, $g(z)=\\frac{1}{1+e^{-z}}$, while the second, $\\frac{1+e^{-z}}{1+e^{-z}}$, is simply equal to $1$, so that the derivative of the sigmoid function can be written as\n",
    "<br>\n",
    "<div align=\"center\"><b> $g'(z)=g(z)\\big(1-g(z)\\big)$ </b></div>\n",
    "<br>"
   ]
  }
 ],
 "metadata": {
  "kernelspec": {
   "display_name": "Python 3",
   "language": "python",
   "name": "python3"
  },
  "language_info": {
   "codemirror_mode": {
    "name": "ipython",
    "version": 3
   },
   "file_extension": ".py",
   "mimetype": "text/x-python",
   "name": "python",
   "nbconvert_exporter": "python",
   "pygments_lexer": "ipython3",
   "version": "3.7.10"
  }
 },
 "nbformat": 4,
 "nbformat_minor": 2
}
